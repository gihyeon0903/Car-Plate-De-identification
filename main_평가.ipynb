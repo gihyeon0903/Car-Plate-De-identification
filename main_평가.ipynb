{
 "cells": [
  {
   "cell_type": "code",
   "execution_count": 1,
   "metadata": {},
   "outputs": [
    {
     "name": "stderr",
     "output_type": "stream",
     "text": [
      "c:\\Users\\user\\anaconda3\\envs\\yolov5\\lib\\site-packages\\tqdm\\auto.py:21: TqdmWarning: IProgress not found. Please update jupyter and ipywidgets. See https://ipywidgets.readthedocs.io/en/stable/user_install.html\n",
      "  from .autonotebook import tqdm as notebook_tqdm\n",
      "YOLOv5  2023-10-3 Python-3.8.16 torch-1.13.1 CUDA:0 (NVIDIA GeForce RTX 3050 Laptop GPU, 4096MiB)\n",
      "\n",
      "Fusing layers... \n",
      "YOLOv5m summary: 212 layers, 20852934 parameters, 0 gradients, 47.9 GFLOPs\n"
     ]
    },
    {
     "name": "stdout",
     "output_type": "stream",
     "text": [
      "initialize network with normal\n",
      "\n"
     ]
    }
   ],
   "source": [
    "%matplotlib inline\n",
    "\n",
    "import cv2, json, os\n",
    "import numpy as np\n",
    "import matplotlib.pyplot as plt\n",
    "\n",
    "from collections import defaultdict\n",
    "from tqdm import tqdm\n",
    "\n",
    "from custom_utils import evaluation_metric\n",
    "from custom_utils.plate_detector import Plate_Detector\n",
    "from custom_utils.coner_detector import Corner_Detector\n",
    "from custom_utils.plate_type_classifier import Plate_Type_Classifier\n",
    "from custom_utils.synthetic_plate_generator import Synthetic_Plate_Generator\n",
    "from custom_utils.pix2pix import Synthetic_Plate_Generator_pix2pix\n",
    "from custom_utils.plate_synthesizer import Plate_Synthesizer\n",
    "\n",
    "yolo_detector             = Plate_Detector(device='cuda:0', margin_gain=0.45)\n",
    "corner_detector           = Corner_Detector(device='cuda')\n",
    "plate_type_classifier     = Plate_Type_Classifier(device='cuda')\n",
    "# synthetic_plate_generator = Synthetic_Plate_Generator(device='cuda')\n",
    "# synthetic_plate_generator = Synthetic_Plate_Generator_nueral(device='cuda')\n",
    "synthetic_plate_generator = Synthetic_Plate_Generator_pix2pix(device='cuda')\n",
    "plate_synthesizer         = Plate_Synthesizer()\n",
    "\n",
    "generater_type = synthetic_plate_generator.name"
   ]
  },
  {
   "cell_type": "markdown",
   "metadata": {},
   "source": [
    "### Bbox 정답 xy 좌표 추출"
   ]
  },
  {
   "cell_type": "code",
   "execution_count": 2,
   "metadata": {},
   "outputs": [
    {
     "name": "stderr",
     "output_type": "stream",
     "text": [
      "100%|██████████| 326/326 [00:00<00:00, 325016.19it/s]\n"
     ]
    }
   ],
   "source": [
    "json_path = './Labels/total.json'\n",
    "bboxes_xy_label = defaultdict(int)\n",
    "\n",
    "with open(json_path, 'r') as f:\n",
    "    json_data = json.load(f)\n",
    "    \n",
    "for key in tqdm(list(json_data.keys())):\n",
    "    \n",
    "    img_name = json_data[key]['filename'].split('.')[0]\n",
    "    \n",
    "    # label\n",
    "    bbox_regions = json_data[key]['regions']\n",
    "    labels = []\n",
    "\n",
    "    for bbox_attr in bbox_regions:\n",
    "        x1 = bbox_attr['shape_attributes']['x']\n",
    "        y1 = bbox_attr['shape_attributes']['y']\n",
    "        x2 = x1 + bbox_attr['shape_attributes']['width']\n",
    "        y2 = y1 + bbox_attr['shape_attributes']['height']\n",
    "        labels.append([x1, y1, x2, y2])\n",
    "    bboxes_xy_label[img_name] = labels\n",
    "    "
   ]
  },
  {
   "cell_type": "markdown",
   "metadata": {},
   "source": [
    "### 평가"
   ]
  },
  {
   "cell_type": "code",
   "execution_count": 3,
   "metadata": {},
   "outputs": [
    {
     "name": "stderr",
     "output_type": "stream",
     "text": [
      "100%|██████████| 324/324 [06:24<00:00,  1.19s/it]\n"
     ]
    }
   ],
   "source": [
    "file_names = os.listdir('./raw_images/')\n",
    "\n",
    "TP, FP, FN = 0, 0, 0\n",
    "brisque_origin_score = []\n",
    "brisque_syn_score    = []\n",
    "\n",
    "psnr_syn_score = []\n",
    "psnr_mask_score = []\n",
    "psnr_blur_score = []\n",
    "\n",
    "ssim_syn_score = []\n",
    "ssim_mask_score = []\n",
    "ssim_blur_score = []\n",
    "\n",
    "for file_name in tqdm(file_names):\n",
    "    im = cv2.imread('./raw_images/{}'.format(file_name))\n",
    "    bboxes , bboxes_xy = yolo_detector.predict(im)\n",
    "    \n",
    "    bboxes_xy_pred = []\n",
    "    for bboxes_xy_i in bboxes_xy: # yyxx format\n",
    "        bboxes_xy_pred.append([bboxes_xy_i[2], bboxes_xy_i[0], bboxes_xy_i[3], bboxes_xy_i[1]])\n",
    "    \n",
    "    # TF인 부분만 고려\n",
    "    bboxes_TF = []\n",
    "    for bboxes_xy_i in bboxes_xy:\n",
    "        bboxes_TF.append(evaluation_metric.check_TP(bboxes_xy_i, bboxes_xy_label[file_name.split('.')[0]]))\n",
    "    \n",
    "    TP_i, FP_i, FN_i, Confusion_matrix = evaluation_metric.f1_score(bboxes_xy_pred, bboxes_xy_label[file_name.split('.')[0]])\n",
    "    \n",
    "    TP += TP_i\n",
    "    FP += FP_i\n",
    "    FN += FN_i\n",
    "    \n",
    "    xy_list = corner_detector.predict(bboxes)\n",
    "    plate_type_list = plate_type_classifier.predict(bboxes, xy_list)\n",
    "    synthetic_plate_list = synthetic_plate_generator.predict(bboxes, xy_list, plate_type_list)\n",
    "    result_im = plate_synthesizer.predict(im, xy_list, bboxes, bboxes_xy, synthetic_plate_list, generater_type);\n",
    "    \n",
    "    cv2.imwrite('./generate_images/{}/{}'.format(generater_type+'_v5', file_name), result_im)\n",
    "    \n",
    "    for bboxes_xy_i, state in zip(bboxes_xy, bboxes_TF):\n",
    "        y1, y2, x1, x2 = bboxes_xy_i[0], bboxes_xy_i[1], bboxes_xy_i[2], bboxes_xy_i[3]\n",
    "        origin_im = im[y1:y2, x1:x2, :].copy()\n",
    "        syn_im    = result_im[y1:y2, x1:x2, :].copy()\n",
    "        \n",
    "        #### masking, blurring\n",
    "        \n",
    "        ## masking\n",
    "        not_weight_plate_h = (y2-y1) * 0.45\n",
    "        not_weight_plate_w = (x2-x1) * 0.45\n",
    "        \n",
    "        y1_ = y1 + int(not_weight_plate_h//2)\n",
    "        y2_ = y2 - int(not_weight_plate_h//2)\n",
    "        x1_ = x1 + int(not_weight_plate_w//2)\n",
    "        x2_ = x2 - int(not_weight_plate_w//2)\n",
    "        \n",
    "        tmp = im.copy()\n",
    "        for i in range(3): # zero masking\n",
    "            tmp[y1_:y2_, x1_:x2_, i] = 255\n",
    "        masking_img = tmp[y1:y2, x1:x2, :].copy()\n",
    "        \n",
    "        ## blurring\n",
    "        kernel_size = (0, 0)\n",
    "        kernel_sigma = 10\n",
    "        \n",
    "        tmp = im.copy()\n",
    "        tmp[y1_:y2_, x1_:x2_, :] = cv2.GaussianBlur(tmp[y1_:y2_, x1_:x2_, :], kernel_size, kernel_sigma)\n",
    "        blurring_img = tmp[y1:y2, x1:x2, :].copy()\n",
    "        \n",
    "        ####\n",
    "        \n",
    "        # TF인 부분만 고려\n",
    "        if state:\n",
    "            brisque_origin_score.append(evaluation_metric.brisque_score(origin_im))\n",
    "            brisque_syn_score.append(evaluation_metric.brisque_score(syn_im))\n",
    "            psnr_syn_score.append(evaluation_metric.psnr_score(origin_im, syn_im))\n",
    "            ssim_syn_score.append(evaluation_metric.ssim_score(origin_im, syn_im))\n",
    "            \n",
    "            psnr_mask_score.append(evaluation_metric.psnr_score(origin_im, masking_img))\n",
    "            ssim_mask_score.append(evaluation_metric.ssim_score(origin_im, masking_img))\n",
    "            \n",
    "            psnr_blur_score.append(evaluation_metric.psnr_score(origin_im, blurring_img))\n",
    "            ssim_blur_score.append(evaluation_metric.ssim_score(origin_im, blurring_img))"
   ]
  },
  {
   "cell_type": "code",
   "execution_count": 4,
   "metadata": {},
   "outputs": [],
   "source": [
    "Precision = TP/(TP+FP)\n",
    "Recall    = TP/(TP+FN)\n",
    "F1_score   = 2*(Precision*Recall)/(Precision+Recall)"
   ]
  },
  {
   "cell_type": "code",
   "execution_count": 5,
   "metadata": {},
   "outputs": [],
   "source": [
    "import pandas as pd"
   ]
  },
  {
   "cell_type": "code",
   "execution_count": 6,
   "metadata": {},
   "outputs": [],
   "source": [
    "score_df = pd.DataFrame({'brisque_origin_score':brisque_origin_score,\n",
    "                         'brisque_syn_score':brisque_syn_score,\n",
    "                         'psnr_syn_score':psnr_syn_score,\n",
    "                         \n",
    "                         'psnr_mask_score':psnr_mask_score,\n",
    "                         'psnr_blur_score':psnr_blur_score,\n",
    "                         \n",
    "                         'ssim_syn_score':ssim_syn_score,\n",
    "                         'ssim_mask_score':ssim_mask_score,\n",
    "                         'ssim_blur_score':ssim_blur_score,\n",
    "                         \n",
    "                         'Precision' : Precision,\n",
    "                         'Recall' : Recall,\n",
    "                         'F1_score' : F1_score,\n",
    "                         'time' : '7m18s'\n",
    "                        })"
   ]
  },
  {
   "cell_type": "code",
   "execution_count": 7,
   "metadata": {},
   "outputs": [],
   "source": [
    "score_df.to_csv('pix2pixv5_result.csv', header=True)"
   ]
  },
  {
   "cell_type": "code",
   "execution_count": 2,
   "metadata": {},
   "outputs": [],
   "source": [
    "import pandas as pd"
   ]
  },
  {
   "cell_type": "code",
   "execution_count": 7,
   "metadata": {},
   "outputs": [],
   "source": [
    "pidx2pix_df         = pd.read_csv('./pix2pixv5_result.csv', index_col = 0)\n",
    "styleswap_df        = pd.read_csv('./style_swap_result.csv', index_col = 0)\n",
    "styletransfer_df    = pd.read_csv('./neural_style_transfer_result.csv', index_col = 0)"
   ]
  },
  {
   "cell_type": "code",
   "execution_count": 8,
   "metadata": {},
   "outputs": [
    {
     "name": "stdout",
     "output_type": "stream",
     "text": [
      "---------------BRISQUE--------------- 작을 수록 좋음\n",
      "원본 이미지 BRISQUE SCORE :  24.76281930031432\n",
      "합성 이미지 BRISQUE SCORE :  45.519925626424936\n",
      "\n",
      "\n",
      "---------------PSNR--------------- 클수록 좋음\n",
      "합성     이미지 PSNR SCORE :  21.14035797948308\n",
      "마스크   이미지 PSNR SCORE :  9.542633759124016\n",
      "블러     이미지 PSNR SCORE :  20.59396039664028\n",
      "\n",
      "\n",
      "---------------SSIM--------------- 1에 가까울수록 좋음\n",
      "합성     이미지 SSIM SCORE :  0.7905482010386436\n",
      "마스크   이미지 SSIM SCORE :  0.6560032367602053\n",
      "블러     이미지 SSIM SCORE :  0.7269054813893352\n"
     ]
    }
   ],
   "source": [
    "score_df = pidx2pix_df\n",
    "print('---------------BRISQUE--------------- 작을 수록 좋음')\n",
    "print(\"원본 이미지 BRISQUE SCORE : \", score_df['brisque_origin_score'].mean())\n",
    "print(\"합성 이미지 BRISQUE SCORE : \", score_df['brisque_syn_score'].mean())\n",
    "print('\\n')\n",
    "\n",
    "print('---------------PSNR--------------- 클수록 좋음')\n",
    "print(\"합성     이미지 PSNR SCORE : \", score_df['psnr_syn_score'].mean())\n",
    "print(\"마스크   이미지 PSNR SCORE : \", score_df['psnr_mask_score'].mean())\n",
    "print(\"블러     이미지 PSNR SCORE : \", score_df['psnr_blur_score'].mean())\n",
    "print('\\n')\n",
    "\n",
    "print('---------------SSIM--------------- 1에 가까울수록 좋음')\n",
    "print(\"합성     이미지 SSIM SCORE : \", score_df['ssim_syn_score'].mean())\n",
    "print(\"마스크   이미지 SSIM SCORE : \", score_df['ssim_mask_score'].mean())\n",
    "print(\"블러     이미지 SSIM SCORE : \", score_df['ssim_blur_score'].mean())"
   ]
  },
  {
   "cell_type": "code",
   "execution_count": 9,
   "metadata": {},
   "outputs": [
    {
     "name": "stdout",
     "output_type": "stream",
     "text": [
      "---------------BRISQUE--------------- 작을 수록 좋음\n",
      "원본 이미지 BRISQUE SCORE :  24.76281930031432\n",
      "합성 이미지 BRISQUE SCORE :  43.32730948796636\n",
      "\n",
      "\n",
      "---------------PSNR--------------- 클수록 좋음\n",
      "합성     이미지 PSNR SCORE :  21.967346654148447\n",
      "마스크   이미지 PSNR SCORE :  9.542633759124016\n",
      "블러     이미지 PSNR SCORE :  20.59396039664028\n",
      "\n",
      "\n",
      "---------------SSIM--------------- 1에 가까울수록 좋음\n",
      "합성     이미지 SSIM SCORE :  0.8353776365557939\n",
      "마스크   이미지 SSIM SCORE :  0.6560032367602053\n",
      "블러     이미지 SSIM SCORE :  0.7269054813893352\n"
     ]
    }
   ],
   "source": [
    "score_df = styleswap_df\n",
    "print('---------------BRISQUE--------------- 작을 수록 좋음')\n",
    "print(\"원본 이미지 BRISQUE SCORE : \", score_df['brisque_origin_score'].mean())\n",
    "print(\"합성 이미지 BRISQUE SCORE : \", score_df['brisque_syn_score'].mean())\n",
    "print('\\n')\n",
    "\n",
    "print('---------------PSNR--------------- 클수록 좋음')\n",
    "print(\"합성     이미지 PSNR SCORE : \", score_df['psnr_syn_score'].mean())\n",
    "print(\"마스크   이미지 PSNR SCORE : \", score_df['psnr_mask_score'].mean())\n",
    "print(\"블러     이미지 PSNR SCORE : \", score_df['psnr_blur_score'].mean())\n",
    "print('\\n')\n",
    "\n",
    "print('---------------SSIM--------------- 1에 가까울수록 좋음')\n",
    "print(\"합성     이미지 SSIM SCORE : \", score_df['ssim_syn_score'].mean())\n",
    "print(\"마스크   이미지 SSIM SCORE : \", score_df['ssim_mask_score'].mean())\n",
    "print(\"블러     이미지 SSIM SCORE : \", score_df['ssim_blur_score'].mean())"
   ]
  },
  {
   "cell_type": "code",
   "execution_count": 10,
   "metadata": {},
   "outputs": [
    {
     "name": "stdout",
     "output_type": "stream",
     "text": [
      "---------------BRISQUE--------------- 작을 수록 좋음\n",
      "원본 이미지 BRISQUE SCORE :  24.746121466951905\n",
      "합성 이미지 BRISQUE SCORE :  42.96687468907988\n",
      "\n",
      "\n",
      "---------------PSNR--------------- 클수록 좋음\n",
      "합성     이미지 PSNR SCORE :  21.562806408064084\n",
      "마스크   이미지 PSNR SCORE :  9.541682839527454\n",
      "블러     이미지 PSNR SCORE :  20.59401537400496\n",
      "\n",
      "\n",
      "---------------SSIM--------------- 1에 가까울수록 좋음\n",
      "합성     이미지 SSIM SCORE :  0.8339915355993023\n",
      "마스크   이미지 SSIM SCORE :  0.6559702638166045\n",
      "블러     이미지 SSIM SCORE :  0.7268984374904154\n"
     ]
    }
   ],
   "source": [
    "score_df = styletransfer_df\n",
    "print('---------------BRISQUE--------------- 작을 수록 좋음')\n",
    "print(\"원본 이미지 BRISQUE SCORE : \", score_df['brisque_origin_score'].mean())\n",
    "print(\"합성 이미지 BRISQUE SCORE : \", score_df['brisque_syn_score'].mean())\n",
    "print('\\n')\n",
    "\n",
    "print('---------------PSNR--------------- 클수록 좋음')\n",
    "print(\"합성     이미지 PSNR SCORE : \", score_df['psnr_syn_score'].mean())\n",
    "print(\"마스크   이미지 PSNR SCORE : \", score_df['psnr_mask_score'].mean())\n",
    "print(\"블러     이미지 PSNR SCORE : \", score_df['psnr_blur_score'].mean())\n",
    "print('\\n')\n",
    "\n",
    "print('---------------SSIM--------------- 1에 가까울수록 좋음')\n",
    "print(\"합성     이미지 SSIM SCORE : \", score_df['ssim_syn_score'].mean())\n",
    "print(\"마스크   이미지 SSIM SCORE : \", score_df['ssim_mask_score'].mean())\n",
    "print(\"블러     이미지 SSIM SCORE : \", score_df['ssim_blur_score'].mean())"
   ]
  },
  {
   "cell_type": "code",
   "execution_count": 26,
   "metadata": {},
   "outputs": [
    {
     "data": {
      "image/png": "[encoded data removed]",
      "text/plain": [
       "<Figure size 2000x500 with 1 Axes>"
      ]
     },
     "metadata": {},
     "output_type": "display_data"
    }
   ],
   "source": [
    "%matplotlib inline\n",
    "briq_origina_score = score_df[['brisque_origin_score']].values\n",
    "fig = plt.figure(figsize=(20, 5))\n",
    "plt.hist(briq_origina_score, bins=200)\n",
    "plt.xlabel('count')\n",
    "plt.ylabel('value')\n",
    "plt.show()\n"
   ]
  },
  {
   "cell_type": "code",
   "execution_count": null,
   "metadata": {},
   "outputs": [],
   "source": [
    "# https://openaccess.thecvf.com/content_CVPRW_2019/papers/CV-COPS/Li_AnonymousNet_Natural_Face_De-Identification_With_Measurable_Privacy_CVPRW_2019_paper.pdf"
   ]
  }
 ],
 "metadata": {
  "kernelspec": {
   "display_name": "py3.8",
   "language": "python",
   "name": "python3"
  },
  "language_info": {
   "codemirror_mode": {
    "name": "ipython",
    "version": 3
   },
   "file_extension": ".py",
   "mimetype": "text/x-python",
   "name": "python",
   "nbconvert_exporter": "python",
   "pygments_lexer": "ipython3",
   "version": "3.8.16"
  },
  "orig_nbformat": 4
 },
 "nbformat": 4,
 "nbformat_minor": 2
}
